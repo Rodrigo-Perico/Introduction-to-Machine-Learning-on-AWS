{
  "cells": [
    {
      "cell_type": "markdown",
      "metadata": {
        "id": "view-in-github",
        "colab_type": "text"
      },
      "source": [
        "<a href=\"https://colab.research.google.com/github/Murilo1514/Diabets_prediction_pipeline/blob/main/SVM_teste.ipynb\" target=\"_parent\"><img src=\"https://colab.research.google.com/assets/colab-badge.svg\" alt=\"Open In Colab\"/></a>"
      ]
    },
    {
      "cell_type": "code",
      "execution_count": null,
      "metadata": {
        "colab": {
          "base_uri": "https://localhost:8080/"
        },
        "id": "UAnTygW5DaUf",
        "outputId": "5b56581d-704c-436a-842f-161bb78136dc"
      },
      "outputs": [
        {
          "name": "stdout",
          "output_type": "stream",
          "text": [
            "Requirement already satisfied: optuna in /usr/local/lib/python3.10/dist-packages (4.1.0)\n",
            "Requirement already satisfied: alembic>=1.5.0 in /usr/local/lib/python3.10/dist-packages (from optuna) (1.14.0)\n",
            "Requirement already satisfied: colorlog in /usr/local/lib/python3.10/dist-packages (from optuna) (6.9.0)\n",
            "Requirement already satisfied: numpy in /usr/local/lib/python3.10/dist-packages (from optuna) (1.26.4)\n",
            "Requirement already satisfied: packaging>=20.0 in /usr/local/lib/python3.10/dist-packages (from optuna) (24.2)\n",
            "Requirement already satisfied: sqlalchemy>=1.4.2 in /usr/local/lib/python3.10/dist-packages (from optuna) (2.0.36)\n",
            "Requirement already satisfied: tqdm in /usr/local/lib/python3.10/dist-packages (from optuna) (4.66.6)\n",
            "Requirement already satisfied: PyYAML in /usr/local/lib/python3.10/dist-packages (from optuna) (6.0.2)\n",
            "Requirement already satisfied: Mako in /usr/local/lib/python3.10/dist-packages (from alembic>=1.5.0->optuna) (1.3.6)\n",
            "Requirement already satisfied: typing-extensions>=4 in /usr/local/lib/python3.10/dist-packages (from alembic>=1.5.0->optuna) (4.12.2)\n",
            "Requirement already satisfied: greenlet!=0.4.17 in /usr/local/lib/python3.10/dist-packages (from sqlalchemy>=1.4.2->optuna) (3.1.1)\n",
            "Requirement already satisfied: MarkupSafe>=0.9.2 in /usr/local/lib/python3.10/dist-packages (from Mako->alembic>=1.5.0->optuna) (3.0.2)\n",
            "Requirement already satisfied: ucimlrepo in /usr/local/lib/python3.10/dist-packages (0.0.7)\n",
            "Requirement already satisfied: pandas>=1.0.0 in /usr/local/lib/python3.10/dist-packages (from ucimlrepo) (2.2.2)\n",
            "Requirement already satisfied: certifi>=2020.12.5 in /usr/local/lib/python3.10/dist-packages (from ucimlrepo) (2024.8.30)\n",
            "Requirement already satisfied: numpy>=1.22.4 in /usr/local/lib/python3.10/dist-packages (from pandas>=1.0.0->ucimlrepo) (1.26.4)\n",
            "Requirement already satisfied: python-dateutil>=2.8.2 in /usr/local/lib/python3.10/dist-packages (from pandas>=1.0.0->ucimlrepo) (2.8.2)\n",
            "Requirement already satisfied: pytz>=2020.1 in /usr/local/lib/python3.10/dist-packages (from pandas>=1.0.0->ucimlrepo) (2024.2)\n",
            "Requirement already satisfied: tzdata>=2022.7 in /usr/local/lib/python3.10/dist-packages (from pandas>=1.0.0->ucimlrepo) (2024.2)\n",
            "Requirement already satisfied: six>=1.5 in /usr/local/lib/python3.10/dist-packages (from python-dateutil>=2.8.2->pandas>=1.0.0->ucimlrepo) (1.16.0)\n"
          ]
        }
      ],
      "source": [
        "!pip install optuna\n",
        "!pip install ucimlrepo"
      ]
    },
    {
      "cell_type": "code",
      "execution_count": 1,
      "metadata": {
        "id": "G3NY1sQ1DdCq",
        "colab": {
          "base_uri": "https://localhost:8080/",
          "height": 384
        },
        "outputId": "620f6d29-03c2-4d65-9071-ba5ba5fcc9be"
      },
      "outputs": [
        {
          "output_type": "error",
          "ename": "ModuleNotFoundError",
          "evalue": "No module named 'optuna'",
          "traceback": [
            "\u001b[0;31m---------------------------------------------------------------------------\u001b[0m",
            "\u001b[0;31mModuleNotFoundError\u001b[0m                       Traceback (most recent call last)",
            "\u001b[0;32m<ipython-input-1-3463159e8334>\u001b[0m in \u001b[0;36m<cell line: 6>\u001b[0;34m()\u001b[0m\n\u001b[1;32m      4\u001b[0m \u001b[0;32mimport\u001b[0m \u001b[0mseaborn\u001b[0m \u001b[0;32mas\u001b[0m \u001b[0msns\u001b[0m\u001b[0;34m\u001b[0m\u001b[0;34m\u001b[0m\u001b[0m\n\u001b[1;32m      5\u001b[0m \u001b[0;32mimport\u001b[0m \u001b[0mstatsmodels\u001b[0m\u001b[0;34m.\u001b[0m\u001b[0mapi\u001b[0m \u001b[0;32mas\u001b[0m \u001b[0msm\u001b[0m\u001b[0;34m\u001b[0m\u001b[0;34m\u001b[0m\u001b[0m\n\u001b[0;32m----> 6\u001b[0;31m \u001b[0;32mimport\u001b[0m \u001b[0moptuna\u001b[0m\u001b[0;34m\u001b[0m\u001b[0;34m\u001b[0m\u001b[0m\n\u001b[0m\u001b[1;32m      7\u001b[0m \u001b[0;32mfrom\u001b[0m \u001b[0mplotly\u001b[0m\u001b[0;34m.\u001b[0m\u001b[0mio\u001b[0m \u001b[0;32mimport\u001b[0m \u001b[0mshow\u001b[0m\u001b[0;34m\u001b[0m\u001b[0;34m\u001b[0m\u001b[0m\n\u001b[1;32m      8\u001b[0m \u001b[0;32mfrom\u001b[0m \u001b[0msklearn\u001b[0m\u001b[0;34m.\u001b[0m\u001b[0mmodel_selection\u001b[0m \u001b[0;32mimport\u001b[0m \u001b[0mtrain_test_split\u001b[0m\u001b[0;34m,\u001b[0m \u001b[0mGridSearchCV\u001b[0m\u001b[0;34m\u001b[0m\u001b[0;34m\u001b[0m\u001b[0m\n",
            "\u001b[0;31mModuleNotFoundError\u001b[0m: No module named 'optuna'",
            "",
            "\u001b[0;31m---------------------------------------------------------------------------\u001b[0;32m\nNOTE: If your import is failing due to a missing package, you can\nmanually install dependencies using either !pip or !apt.\n\nTo view examples of installing some common dependencies, click the\n\"Open Examples\" button below.\n\u001b[0;31m---------------------------------------------------------------------------\u001b[0m\n"
          ],
          "errorDetails": {
            "actions": [
              {
                "action": "open_url",
                "actionText": "Open Examples",
                "url": "/notebooks/snippets/importing_libraries.ipynb"
              }
            ]
          }
        }
      ],
      "source": [
        "import numpy as np\n",
        "import matplotlib.pyplot as plt\n",
        "import pandas as pd\n",
        "import seaborn as sns\n",
        "import statsmodels.api as sm\n",
        "import optuna\n",
        "from plotly.io import show\n",
        "from sklearn.model_selection import train_test_split, GridSearchCV\n",
        "from sklearn.preprocessing import StandardScaler, OneHotEncoder, MinMaxScaler, FunctionTransformer, RobustScaler\n",
        "from sklearn.svm import SVC\n",
        "from sklearn.pipeline import Pipeline, FeatureUnion\n",
        "from sklearn.metrics import accuracy_score, f1_score, make_scorer, confusion_matrix, ConfusionMatrixDisplay, recall_score, precision_score\n",
        "from sklearn.compose import ColumnTransformer\n",
        "from ucimlrepo import fetch_ucirepo\n",
        "from functools import partial\n",
        "from sklearn.decomposition import PCA\n",
        "from sklearn.metrics import classification_report"
      ]
    },
    {
      "cell_type": "code",
      "execution_count": null,
      "metadata": {
        "colab": {
          "base_uri": "https://localhost:8080/"
        },
        "id": "89ckwreEDpa2",
        "outputId": "a0ec331d-199b-41fa-b9fd-e35a7e124d4b"
      },
      "outputs": [
        {
          "name": "stderr",
          "output_type": "stream",
          "text": [
            "/usr/local/lib/python3.10/dist-packages/ipykernel/ipkernel.py:283: DeprecationWarning:\n",
            "\n",
            "`should_run_async` will not call `transform_cell` automatically in the future. Please pass the result to `transformed_cell` argument and any exception that happen during thetransform in `preprocessing_exc_tuple` in IPython 7.17 and above.\n",
            "\n"
          ]
        },
        {
          "name": "stdout",
          "output_type": "stream",
          "text": [
            "{'uci_id': 891, 'name': 'CDC Diabetes Health Indicators', 'repository_url': 'https://archive.ics.uci.edu/dataset/891/cdc+diabetes+health+indicators', 'data_url': 'https://archive.ics.uci.edu/static/public/891/data.csv', 'abstract': 'The Diabetes Health Indicators Dataset contains healthcare statistics and lifestyle survey information about people in general along with their diagnosis of diabetes. The 35 features consist of some demographics, lab test results, and answers to survey questions for each patient. The target variable for classification is whether a patient has diabetes, is pre-diabetic, or healthy. ', 'area': 'Health and Medicine', 'tasks': ['Classification'], 'characteristics': ['Tabular', 'Multivariate'], 'num_instances': 253680, 'num_features': 21, 'feature_types': ['Categorical', 'Integer'], 'demographics': ['Sex', 'Age', 'Education Level', 'Income'], 'target_col': ['Diabetes_binary'], 'index_col': ['ID'], 'has_missing_values': 'no', 'missing_values_symbol': None, 'year_of_dataset_creation': 2017, 'last_updated': 'Fri Nov 03 2023', 'dataset_doi': '10.24432/C53919', 'creators': [], 'intro_paper': {'ID': 308, 'type': 'NATIVE', 'title': 'Incidence of End-Stage Renal Disease Attributed to Diabetes Among Persons with Diagnosed Diabetes — United States and Puerto Rico, 2000–2014', 'authors': 'Nilka Rios Burrows, MPH; Israel Hora, PhD; Linda S. Geiss, MA; Edward W. Gregg, PhD; Ann Albright, PhD', 'venue': 'Morbidity and Mortality Weekly Report', 'year': 2017, 'journal': None, 'DOI': None, 'URL': 'https://www.cdc.gov/mmwr/volumes/66/wr/mm6643a2.htm', 'sha': None, 'corpus': None, 'arxiv': None, 'mag': None, 'acl': None, 'pmid': None, 'pmcid': None}, 'additional_info': {'summary': 'Dataset link: https://www.cdc.gov/brfss/annual_data/annual_2014.html', 'purpose': 'To better understand the relationship between  lifestyle and diabetes in the US', 'funded_by': 'The CDC', 'instances_represent': 'Each row represents a person participating in this study.', 'recommended_data_splits': 'Cross validation or a fixed train-test split could be used.', 'sensitive_data': '- Gender\\n- Income\\n- Education level', 'preprocessing_description': 'Bucketing of age', 'variable_info': '- Diabetes diagnosis\\n- Demographics (race, sex)\\n- Personal information (income, educations)\\n- Health history (drinking, smoking, mental health, physical health)', 'citation': None}, 'external_url': 'https://www.kaggle.com/datasets/alexteboul/diabetes-health-indicators-dataset'}\n",
            "                    name     role     type      demographic  \\\n",
            "0                     ID       ID  Integer             None   \n",
            "1        Diabetes_binary   Target   Binary             None   \n",
            "2                 HighBP  Feature   Binary             None   \n",
            "3               HighChol  Feature   Binary             None   \n",
            "4              CholCheck  Feature   Binary             None   \n",
            "5                    BMI  Feature  Integer             None   \n",
            "6                 Smoker  Feature   Binary             None   \n",
            "7                 Stroke  Feature   Binary             None   \n",
            "8   HeartDiseaseorAttack  Feature   Binary             None   \n",
            "9           PhysActivity  Feature   Binary             None   \n",
            "10                Fruits  Feature   Binary             None   \n",
            "11               Veggies  Feature   Binary             None   \n",
            "12     HvyAlcoholConsump  Feature   Binary             None   \n",
            "13         AnyHealthcare  Feature   Binary             None   \n",
            "14           NoDocbcCost  Feature   Binary             None   \n",
            "15               GenHlth  Feature  Integer             None   \n",
            "16              MentHlth  Feature  Integer             None   \n",
            "17              PhysHlth  Feature  Integer             None   \n",
            "18              DiffWalk  Feature   Binary             None   \n",
            "19                   Sex  Feature   Binary              Sex   \n",
            "20                   Age  Feature  Integer              Age   \n",
            "21             Education  Feature  Integer  Education Level   \n",
            "22                Income  Feature  Integer           Income   \n",
            "\n",
            "                                          description units missing_values  \n",
            "0                                          Patient ID  None             no  \n",
            "1         0 = no diabetes 1 = prediabetes or diabetes  None             no  \n",
            "2                          0 = no high BP 1 = high BP  None             no  \n",
            "3        0 = no high cholesterol 1 = high cholesterol  None             no  \n",
            "4   0 = no cholesterol check in 5 years 1 = yes ch...  None             no  \n",
            "5                                     Body Mass Index  None             no  \n",
            "6   Have you smoked at least 100 cigarettes in you...  None             no  \n",
            "7        (Ever told) you had a stroke. 0 = no 1 = yes  None             no  \n",
            "8   coronary heart disease (CHD) or myocardial inf...  None             no  \n",
            "9   physical activity in past 30 days - not includ...  None             no  \n",
            "10  Consume Fruit 1 or more times per day 0 = no 1...  None             no  \n",
            "11  Consume Vegetables 1 or more times per day 0 =...  None             no  \n",
            "12  Heavy drinkers (adult men having more than 14 ...  None             no  \n",
            "13  Have any kind of health care coverage, includi...  None             no  \n",
            "14  Was there a time in the past 12 months when yo...  None             no  \n",
            "15  Would you say that in general your health is: ...  None             no  \n",
            "16  Now thinking about your mental health, which i...  None             no  \n",
            "17  Now thinking about your physical health, which...  None             no  \n",
            "18  Do you have serious difficulty walking or clim...  None             no  \n",
            "19                                0 = female 1 = male  None             no  \n",
            "20  13-level age category (_AGEG5YR see codebook) ...  None             no  \n",
            "21  Education level (EDUCA see codebook) scale 1-6...  None             no  \n",
            "22  Income scale (INCOME2 see codebook) scale 1-8 ...  None             no  \n"
          ]
        },
        {
          "name": "stderr",
          "output_type": "stream",
          "text": [
            "<ipython-input-24-4317efe546fa>:6: SettingWithCopyWarning:\n",
            "\n",
            "\n",
            "A value is trying to be set on a copy of a slice from a DataFrame.\n",
            "Try using .loc[row_indexer,col_indexer] = value instead\n",
            "\n",
            "See the caveats in the documentation: https://pandas.pydata.org/pandas-docs/stable/user_guide/indexing.html#returning-a-view-versus-a-copy\n",
            "\n"
          ]
        }
      ],
      "source": [
        "cdc_diabetes_health_indicators = fetch_ucirepo(id=891)\n",
        "\n",
        "df = cdc_diabetes_health_indicators.data.features\n",
        "aux = cdc_diabetes_health_indicators.data.targets\n",
        "\n",
        "df[\"diabetes\"] = aux[\"Diabetes_binary\"]\n",
        "\n",
        "# df = df.sample(frac=0.01, random_state=42)\n",
        "\n",
        "print(cdc_diabetes_health_indicators.metadata)\n",
        "\n",
        "print(cdc_diabetes_health_indicators.variables)"
      ]
    },
    {
      "cell_type": "code",
      "execution_count": null,
      "metadata": {
        "colab": {
          "base_uri": "https://localhost:8080/"
        },
        "id": "48GTx8q5Cp_0",
        "outputId": "9c6f32e6-3598-4872-c2e9-9142bcf5eb08"
      },
      "outputs": [
        {
          "name": "stderr",
          "output_type": "stream",
          "text": [
            "/usr/local/lib/python3.10/dist-packages/ipykernel/ipkernel.py:283: DeprecationWarning:\n",
            "\n",
            "`should_run_async` will not call `transform_cell` automatically in the future. Please pass the result to `transformed_cell` argument and any exception that happen during thetransform in `preprocessing_exc_tuple` in IPython 7.17 and above.\n",
            "\n"
          ]
        },
        {
          "data": {
            "text/plain": [
              "24206"
            ]
          },
          "execution_count": 25,
          "metadata": {},
          "output_type": "execute_result"
        }
      ],
      "source": [
        "df.duplicated().sum()"
      ]
    },
    {
      "cell_type": "code",
      "execution_count": null,
      "metadata": {
        "colab": {
          "base_uri": "https://localhost:8080/"
        },
        "id": "XOf_sk6cC1BN",
        "outputId": "42fa0c78-8043-4ba3-f28d-c8bf1ff4b568"
      },
      "outputs": [
        {
          "name": "stderr",
          "output_type": "stream",
          "text": [
            "/usr/local/lib/python3.10/dist-packages/ipykernel/ipkernel.py:283: DeprecationWarning:\n",
            "\n",
            "`should_run_async` will not call `transform_cell` automatically in the future. Please pass the result to `transformed_cell` argument and any exception that happen during thetransform in `preprocessing_exc_tuple` in IPython 7.17 and above.\n",
            "\n",
            "<ipython-input-26-16cdb8520be8>:1: SettingWithCopyWarning:\n",
            "\n",
            "\n",
            "A value is trying to be set on a copy of a slice from a DataFrame\n",
            "\n",
            "See the caveats in the documentation: https://pandas.pydata.org/pandas-docs/stable/user_guide/indexing.html#returning-a-view-versus-a-copy\n",
            "\n"
          ]
        }
      ],
      "source": [
        "df.drop_duplicates(inplace=True)"
      ]
    },
    {
      "cell_type": "code",
      "execution_count": null,
      "metadata": {
        "colab": {
          "base_uri": "https://localhost:8080/"
        },
        "id": "fkyC2AZ1Duut",
        "outputId": "4104a8f9-7086-447e-8489-9b9b0e4f74f2"
      },
      "outputs": [
        {
          "name": "stderr",
          "output_type": "stream",
          "text": [
            "/usr/local/lib/python3.10/dist-packages/ipykernel/ipkernel.py:283: DeprecationWarning:\n",
            "\n",
            "`should_run_async` will not call `transform_cell` automatically in the future. Please pass the result to `transformed_cell` argument and any exception that happen during thetransform in `preprocessing_exc_tuple` in IPython 7.17 and above.\n",
            "\n"
          ]
        },
        {
          "name": "stdout",
          "output_type": "stream",
          "text": [
            "Treino\n",
            " diabetes\n",
            "0    155501\n",
            "1     28078\n",
            "Name: count, dtype: int64\n",
            "\n",
            "Validação \n",
            " diabetes\n",
            "0    19438\n",
            "1     3509\n",
            "Name: count, dtype: int64\n",
            "\n",
            "Teste\n",
            " diabetes\n",
            "0    19438\n",
            "1     3510\n",
            "Name: count, dtype: int64\n"
          ]
        }
      ],
      "source": [
        "X = df.drop(columns=[\"diabetes\"])\n",
        "y = df[\"diabetes\"]\n",
        "\n",
        "x_train, x_temp, y_train, y_temp = train_test_split(X, y, test_size=0.2, random_state=10, stratify=y)\n",
        "\n",
        "categorical_columns = ['GenHlth', 'Age', 'Education', 'Income']\n",
        "numerical_columns = ['BMI', 'MentHlth', 'PhysHlth']\n",
        "binary_columns = ['HighBP', 'HighChol', 'CholCheck', 'Smoker', 'Stroke', 'HeartDiseaseorAttack', 'PhysActivity', 'Fruits', 'Veggies', 'HvyAlcoholConsump', 'AnyHealthcare', 'NoDocbcCost', 'DiffWalk', 'Sex']\n",
        "\n",
        "\n",
        "#print(y_train.value_counts())\n",
        "#print(y_test.value_counts())\n",
        "\n",
        "x_validation, x_test, y_validation, y_test = train_test_split(x_temp, y_temp, test_size=0.5, random_state=10, stratify=y_temp)\n",
        "\n",
        "print(\"Treino\\n\",y_train.value_counts())\n",
        "print(\"\\nValidação \\n\",y_validation.value_counts())\n",
        "print(\"\\nTeste\\n\",y_test.value_counts())"
      ]
    },
    {
      "cell_type": "code",
      "execution_count": null,
      "metadata": {
        "id": "MdCEwKPUCmoM"
      },
      "outputs": [],
      "source": []
    },
    {
      "cell_type": "code",
      "execution_count": null,
      "metadata": {
        "colab": {
          "base_uri": "https://localhost:8080/"
        },
        "id": "Huu04LinEmNk",
        "outputId": "06542e33-a6b9-44c7-d4aa-f91825af92d7"
      },
      "outputs": [
        {
          "name": "stderr",
          "output_type": "stream",
          "text": [
            "/usr/local/lib/python3.10/dist-packages/ipykernel/ipkernel.py:283: DeprecationWarning:\n",
            "\n",
            "`should_run_async` will not call `transform_cell` automatically in the future. Please pass the result to `transformed_cell` argument and any exception that happen during thetransform in `preprocessing_exc_tuple` in IPython 7.17 and above.\n",
            "\n"
          ]
        }
      ],
      "source": [
        "preprocessor_svm = ColumnTransformer(\n",
        "    transformers=[\n",
        "        ('num', MinMaxScaler(), numerical_columns),\n",
        "        ('cat', OneHotEncoder(), categorical_columns),\n",
        "        ('bin', 'passthrough', binary_columns)\n",
        "    ])\n"
      ]
    },
    {
      "cell_type": "code",
      "execution_count": null,
      "metadata": {
        "colab": {
          "base_uri": "https://localhost:8080/"
        },
        "id": "5_qSh4hQEdsq",
        "outputId": "8412767c-cf0b-4ae4-d5eb-d56d9840503f"
      },
      "outputs": [
        {
          "name": "stderr",
          "output_type": "stream",
          "text": [
            "/usr/local/lib/python3.10/dist-packages/ipykernel/ipkernel.py:283: DeprecationWarning:\n",
            "\n",
            "`should_run_async` will not call `transform_cell` automatically in the future. Please pass the result to `transformed_cell` argument and any exception that happen during thetransform in `preprocessing_exc_tuple` in IPython 7.17 and above.\n",
            "\n"
          ]
        }
      ],
      "source": [
        "pca = PCA(n_components=5)\n",
        "pca.fit(x_train)\n",
        "X_train = pca.fit_transform(x_train)\n",
        "X_test = pca.fit_transform(x_test)\n",
        "\n",
        "X_train = pd.DataFrame(X_train)\n",
        "X_test = pd.DataFrame(X_test)"
      ]
    },
    {
      "cell_type": "code",
      "execution_count": null,
      "metadata": {
        "colab": {
          "base_uri": "https://localhost:8080/",
          "height": 296
        },
        "id": "HaQFxN9zGClH",
        "outputId": "d567623e-791a-42a7-a85a-d929d84c491a"
      },
      "outputs": [
        {
          "name": "stderr",
          "output_type": "stream",
          "text": [
            "/usr/local/lib/python3.10/dist-packages/ipykernel/ipkernel.py:283: DeprecationWarning:\n",
            "\n",
            "`should_run_async` will not call `transform_cell` automatically in the future. Please pass the result to `transformed_cell` argument and any exception that happen during thetransform in `preprocessing_exc_tuple` in IPython 7.17 and above.\n",
            "\n"
          ]
        },
        {
          "data": {
            "application/vnd.google.colaboratory.intrinsic+json": {
              "type": "dataframe",
              "variable_name": "X_train"
            },
            "text/html": [
              "\n",
              "  <div id=\"df-a8564254-b477-4e37-a5ad-8df222ffc671\" class=\"colab-df-container\">\n",
              "    <div>\n",
              "<style scoped>\n",
              "    .dataframe tbody tr th:only-of-type {\n",
              "        vertical-align: middle;\n",
              "    }\n",
              "\n",
              "    .dataframe tbody tr th {\n",
              "        vertical-align: top;\n",
              "    }\n",
              "\n",
              "    .dataframe thead th {\n",
              "        text-align: right;\n",
              "    }\n",
              "</style>\n",
              "<table border=\"1\" class=\"dataframe\">\n",
              "  <thead>\n",
              "    <tr style=\"text-align: right;\">\n",
              "      <th></th>\n",
              "      <th>0</th>\n",
              "      <th>1</th>\n",
              "      <th>2</th>\n",
              "      <th>3</th>\n",
              "      <th>4</th>\n",
              "    </tr>\n",
              "  </thead>\n",
              "  <tbody>\n",
              "    <tr>\n",
              "      <th>0</th>\n",
              "      <td>0.563583</td>\n",
              "      <td>-11.738621</td>\n",
              "      <td>2.028129</td>\n",
              "      <td>-4.866915</td>\n",
              "      <td>0.387328</td>\n",
              "    </tr>\n",
              "    <tr>\n",
              "      <th>1</th>\n",
              "      <td>16.690553</td>\n",
              "      <td>-4.766932</td>\n",
              "      <td>14.951749</td>\n",
              "      <td>-1.162146</td>\n",
              "      <td>-3.076461</td>\n",
              "    </tr>\n",
              "    <tr>\n",
              "      <th>2</th>\n",
              "      <td>5.514144</td>\n",
              "      <td>0.257385</td>\n",
              "      <td>-8.944183</td>\n",
              "      <td>1.636671</td>\n",
              "      <td>1.956569</td>\n",
              "    </tr>\n",
              "    <tr>\n",
              "      <th>3</th>\n",
              "      <td>-1.459759</td>\n",
              "      <td>-2.387550</td>\n",
              "      <td>1.384837</td>\n",
              "      <td>4.489885</td>\n",
              "      <td>-1.794192</td>\n",
              "    </tr>\n",
              "    <tr>\n",
              "      <th>4</th>\n",
              "      <td>-5.978750</td>\n",
              "      <td>0.341081</td>\n",
              "      <td>-0.662873</td>\n",
              "      <td>2.717967</td>\n",
              "      <td>1.559649</td>\n",
              "    </tr>\n",
              "  </tbody>\n",
              "</table>\n",
              "</div>\n",
              "    <div class=\"colab-df-buttons\">\n",
              "\n",
              "  <div class=\"colab-df-container\">\n",
              "    <button class=\"colab-df-convert\" onclick=\"convertToInteractive('df-a8564254-b477-4e37-a5ad-8df222ffc671')\"\n",
              "            title=\"Convert this dataframe to an interactive table.\"\n",
              "            style=\"display:none;\">\n",
              "\n",
              "  <svg xmlns=\"http://www.w3.org/2000/svg\" height=\"24px\" viewBox=\"0 -960 960 960\">\n",
              "    <path d=\"M120-120v-720h720v720H120Zm60-500h600v-160H180v160Zm220 220h160v-160H400v160Zm0 220h160v-160H400v160ZM180-400h160v-160H180v160Zm440 0h160v-160H620v160ZM180-180h160v-160H180v160Zm440 0h160v-160H620v160Z\"/>\n",
              "  </svg>\n",
              "    </button>\n",
              "\n",
              "  <style>\n",
              "    .colab-df-container {\n",
              "      display:flex;\n",
              "      gap: 12px;\n",
              "    }\n",
              "\n",
              "    .colab-df-convert {\n",
              "      background-color: #E8F0FE;\n",
              "      border: none;\n",
              "      border-radius: 50%;\n",
              "      cursor: pointer;\n",
              "      display: none;\n",
              "      fill: #1967D2;\n",
              "      height: 32px;\n",
              "      padding: 0 0 0 0;\n",
              "      width: 32px;\n",
              "    }\n",
              "\n",
              "    .colab-df-convert:hover {\n",
              "      background-color: #E2EBFA;\n",
              "      box-shadow: 0px 1px 2px rgba(60, 64, 67, 0.3), 0px 1px 3px 1px rgba(60, 64, 67, 0.15);\n",
              "      fill: #174EA6;\n",
              "    }\n",
              "\n",
              "    .colab-df-buttons div {\n",
              "      margin-bottom: 4px;\n",
              "    }\n",
              "\n",
              "    [theme=dark] .colab-df-convert {\n",
              "      background-color: #3B4455;\n",
              "      fill: #D2E3FC;\n",
              "    }\n",
              "\n",
              "    [theme=dark] .colab-df-convert:hover {\n",
              "      background-color: #434B5C;\n",
              "      box-shadow: 0px 1px 3px 1px rgba(0, 0, 0, 0.15);\n",
              "      filter: drop-shadow(0px 1px 2px rgba(0, 0, 0, 0.3));\n",
              "      fill: #FFFFFF;\n",
              "    }\n",
              "  </style>\n",
              "\n",
              "    <script>\n",
              "      const buttonEl =\n",
              "        document.querySelector('#df-a8564254-b477-4e37-a5ad-8df222ffc671 button.colab-df-convert');\n",
              "      buttonEl.style.display =\n",
              "        google.colab.kernel.accessAllowed ? 'block' : 'none';\n",
              "\n",
              "      async function convertToInteractive(key) {\n",
              "        const element = document.querySelector('#df-a8564254-b477-4e37-a5ad-8df222ffc671');\n",
              "        const dataTable =\n",
              "          await google.colab.kernel.invokeFunction('convertToInteractive',\n",
              "                                                    [key], {});\n",
              "        if (!dataTable) return;\n",
              "\n",
              "        const docLinkHtml = 'Like what you see? Visit the ' +\n",
              "          '<a target=\"_blank\" href=https://colab.research.google.com/notebooks/data_table.ipynb>data table notebook</a>'\n",
              "          + ' to learn more about interactive tables.';\n",
              "        element.innerHTML = '';\n",
              "        dataTable['output_type'] = 'display_data';\n",
              "        await google.colab.output.renderOutput(dataTable, element);\n",
              "        const docLink = document.createElement('div');\n",
              "        docLink.innerHTML = docLinkHtml;\n",
              "        element.appendChild(docLink);\n",
              "      }\n",
              "    </script>\n",
              "  </div>\n",
              "\n",
              "\n",
              "<div id=\"df-ad7b3da2-f620-4c91-b655-3987fdc7213b\">\n",
              "  <button class=\"colab-df-quickchart\" onclick=\"quickchart('df-ad7b3da2-f620-4c91-b655-3987fdc7213b')\"\n",
              "            title=\"Suggest charts\"\n",
              "            style=\"display:none;\">\n",
              "\n",
              "<svg xmlns=\"http://www.w3.org/2000/svg\" height=\"24px\"viewBox=\"0 0 24 24\"\n",
              "     width=\"24px\">\n",
              "    <g>\n",
              "        <path d=\"M19 3H5c-1.1 0-2 .9-2 2v14c0 1.1.9 2 2 2h14c1.1 0 2-.9 2-2V5c0-1.1-.9-2-2-2zM9 17H7v-7h2v7zm4 0h-2V7h2v10zm4 0h-2v-4h2v4z\"/>\n",
              "    </g>\n",
              "</svg>\n",
              "  </button>\n",
              "\n",
              "<style>\n",
              "  .colab-df-quickchart {\n",
              "      --bg-color: #E8F0FE;\n",
              "      --fill-color: #1967D2;\n",
              "      --hover-bg-color: #E2EBFA;\n",
              "      --hover-fill-color: #174EA6;\n",
              "      --disabled-fill-color: #AAA;\n",
              "      --disabled-bg-color: #DDD;\n",
              "  }\n",
              "\n",
              "  [theme=dark] .colab-df-quickchart {\n",
              "      --bg-color: #3B4455;\n",
              "      --fill-color: #D2E3FC;\n",
              "      --hover-bg-color: #434B5C;\n",
              "      --hover-fill-color: #FFFFFF;\n",
              "      --disabled-bg-color: #3B4455;\n",
              "      --disabled-fill-color: #666;\n",
              "  }\n",
              "\n",
              "  .colab-df-quickchart {\n",
              "    background-color: var(--bg-color);\n",
              "    border: none;\n",
              "    border-radius: 50%;\n",
              "    cursor: pointer;\n",
              "    display: none;\n",
              "    fill: var(--fill-color);\n",
              "    height: 32px;\n",
              "    padding: 0;\n",
              "    width: 32px;\n",
              "  }\n",
              "\n",
              "  .colab-df-quickchart:hover {\n",
              "    background-color: var(--hover-bg-color);\n",
              "    box-shadow: 0 1px 2px rgba(60, 64, 67, 0.3), 0 1px 3px 1px rgba(60, 64, 67, 0.15);\n",
              "    fill: var(--button-hover-fill-color);\n",
              "  }\n",
              "\n",
              "  .colab-df-quickchart-complete:disabled,\n",
              "  .colab-df-quickchart-complete:disabled:hover {\n",
              "    background-color: var(--disabled-bg-color);\n",
              "    fill: var(--disabled-fill-color);\n",
              "    box-shadow: none;\n",
              "  }\n",
              "\n",
              "  .colab-df-spinner {\n",
              "    border: 2px solid var(--fill-color);\n",
              "    border-color: transparent;\n",
              "    border-bottom-color: var(--fill-color);\n",
              "    animation:\n",
              "      spin 1s steps(1) infinite;\n",
              "  }\n",
              "\n",
              "  @keyframes spin {\n",
              "    0% {\n",
              "      border-color: transparent;\n",
              "      border-bottom-color: var(--fill-color);\n",
              "      border-left-color: var(--fill-color);\n",
              "    }\n",
              "    20% {\n",
              "      border-color: transparent;\n",
              "      border-left-color: var(--fill-color);\n",
              "      border-top-color: var(--fill-color);\n",
              "    }\n",
              "    30% {\n",
              "      border-color: transparent;\n",
              "      border-left-color: var(--fill-color);\n",
              "      border-top-color: var(--fill-color);\n",
              "      border-right-color: var(--fill-color);\n",
              "    }\n",
              "    40% {\n",
              "      border-color: transparent;\n",
              "      border-right-color: var(--fill-color);\n",
              "      border-top-color: var(--fill-color);\n",
              "    }\n",
              "    60% {\n",
              "      border-color: transparent;\n",
              "      border-right-color: var(--fill-color);\n",
              "    }\n",
              "    80% {\n",
              "      border-color: transparent;\n",
              "      border-right-color: var(--fill-color);\n",
              "      border-bottom-color: var(--fill-color);\n",
              "    }\n",
              "    90% {\n",
              "      border-color: transparent;\n",
              "      border-bottom-color: var(--fill-color);\n",
              "    }\n",
              "  }\n",
              "</style>\n",
              "\n",
              "  <script>\n",
              "    async function quickchart(key) {\n",
              "      const quickchartButtonEl =\n",
              "        document.querySelector('#' + key + ' button');\n",
              "      quickchartButtonEl.disabled = true;  // To prevent multiple clicks.\n",
              "      quickchartButtonEl.classList.add('colab-df-spinner');\n",
              "      try {\n",
              "        const charts = await google.colab.kernel.invokeFunction(\n",
              "            'suggestCharts', [key], {});\n",
              "      } catch (error) {\n",
              "        console.error('Error during call to suggestCharts:', error);\n",
              "      }\n",
              "      quickchartButtonEl.classList.remove('colab-df-spinner');\n",
              "      quickchartButtonEl.classList.add('colab-df-quickchart-complete');\n",
              "    }\n",
              "    (() => {\n",
              "      let quickchartButtonEl =\n",
              "        document.querySelector('#df-ad7b3da2-f620-4c91-b655-3987fdc7213b button');\n",
              "      quickchartButtonEl.style.display =\n",
              "        google.colab.kernel.accessAllowed ? 'block' : 'none';\n",
              "    })();\n",
              "  </script>\n",
              "</div>\n",
              "\n",
              "    </div>\n",
              "  </div>\n"
            ],
            "text/plain": [
              "           0          1          2         3         4\n",
              "0   0.563583 -11.738621   2.028129 -4.866915  0.387328\n",
              "1  16.690553  -4.766932  14.951749 -1.162146 -3.076461\n",
              "2   5.514144   0.257385  -8.944183  1.636671  1.956569\n",
              "3  -1.459759  -2.387550   1.384837  4.489885 -1.794192\n",
              "4  -5.978750   0.341081  -0.662873  2.717967  1.559649"
            ]
          },
          "execution_count": 30,
          "metadata": {},
          "output_type": "execute_result"
        }
      ],
      "source": [
        "X_train.head()"
      ]
    },
    {
      "cell_type": "code",
      "execution_count": null,
      "metadata": {
        "colab": {
          "background_save": true,
          "base_uri": "https://localhost:8080/"
        },
        "id": "ilvo2cpKE-JO",
        "outputId": "5556f4b0-0973-4db3-f821-b5036975a98b"
      },
      "outputs": [
        {
          "name": "stderr",
          "output_type": "stream",
          "text": [
            "/usr/local/lib/python3.10/dist-packages/ipykernel/ipkernel.py:283: DeprecationWarning:\n",
            "\n",
            "`should_run_async` will not call `transform_cell` automatically in the future. Please pass the result to `transformed_cell` argument and any exception that happen during thetransform in `preprocessing_exc_tuple` in IPython 7.17 and above.\n",
            "\n",
            "[I 2024-11-17 21:26:31,040] A new study created in memory with name: no-name-8123c1ac-a287-4ea3-8673-128953bf4010\n",
            "[I 2024-11-17 21:27:06,124] Trial 17 finished with value: 0.003403289846851957 and parameters: {'C': 87.56458421084405, 'gamma': 0.2983967710636374, 'kernel': 'linear'}. Best is trial 33 with value: 0.3125.\n",
            "[I 2024-11-17 21:36:19,349] Trial 37 finished with value: 0.003403289846851957 and parameters: {'C': 1032.5965854757744, 'gamma': 0.0005207200738135311, 'kernel': 'linear'}. Best is trial 33 with value: 0.3125.\n",
            "[I 2024-11-17 22:21:51,358] Trial 1 finished with value: 0.0 and parameters: {'C': 0.15518897538054796, 'gamma': 0.003143884090631424, 'kernel': 'linear'}. Best is trial 1 with value: 0.0.\n",
            "[I 2024-11-17 22:21:51,445] Trial 0 finished with value: 0.0 and parameters: {'C': 0.002204501188134796, 'gamma': 0.021273000913012673, 'kernel': 'rbf'}. Best is trial 1 with value: 0.0.\n"
          ]
        }
      ],
      "source": [
        "def objective(trial):\n",
        "    pipeline = Pipeline([\n",
        "        #('outlier_remover', outlier_remover),\n",
        "        ('preprocessor', preprocessor_svm),\n",
        "        ('svm', SVC())\n",
        "    ])\n",
        "\n",
        "\n",
        "    C = trial.suggest_float('C', 0.001, 1000, log =True)\n",
        "    # suggest_float(..., log=True)\n",
        "    gamma = trial.suggest_float('gamma', 0.0001, 10, log = True)\n",
        "    kernel = trial.suggest_categorical('kernel', ['linear', 'rbf', 'poly', 'sigmoid'])\n",
        "\n",
        "    # print(C)\n",
        "\n",
        "    pipeline.set_params(svm__C = C, svm__gamma = gamma, svm__kernel = kernel)\n",
        "    pipeline.fit(x_train, y_train)\n",
        "\n",
        "    y_pred = pipeline.predict(x_validation)\n",
        "    score = f1_score(y_validation, y_pred)\n",
        "    return score\n",
        "\n",
        "\n",
        "#objective_func = partial(objective, pipeline=pipe_knn)\n",
        "\n",
        "study = optuna.create_study(direction='maximize')\n",
        "study.optimize(objective, n_trials=100, n_jobs=-1) # incrementação do parâmetro n_jobs=-1\n",
        "# study.optimize(objective_func, n_trials=100)\n",
        "\n",
        "study.best_params"
      ]
    },
    {
      "cell_type": "code",
      "execution_count": null,
      "metadata": {
        "id": "O768iJ_SIgyF"
      },
      "outputs": [],
      "source": [
        "  pipeline = Pipeline([\n",
        "      #('outlier_remover', outlier_remover),\n",
        "      ('preprocessor', preprocessor_knn),\n",
        "      ('knn', KNeighborsClassifier())\n",
        "  ])\n",
        "\n",
        "  k = 2\n",
        "  weights = 'distance'\n",
        "  metric = 'manhattan'\n",
        "  pipeline.set_params(knn__n_neighbors=k, knn__weights=weights, knn__metric=metric)\n",
        "  pipeline.fit(x_train, y_train)\n",
        "\n",
        "  y_pred = pipeline.predict(x_temp)\n",
        "  score = f1_score(y_temp, y_pred)\n",
        "  print(score)\n",
        "  print(classification_report(y_temp, y_pred))\n",
        "\n",
        "\n"
      ]
    },
    {
      "cell_type": "code",
      "execution_count": null,
      "metadata": {
        "id": "J-bAbmAhI-MG"
      },
      "outputs": [],
      "source": [
        "print(score)"
      ]
    },
    {
      "cell_type": "markdown",
      "metadata": {
        "id": "7IwRPiTLJZVY"
      },
      "source": [
        "#TO DO\n",
        "estudar separação de teste validação e treino\n",
        "\n",
        "adicionar PCA a partir daqui, mas treinando com toda a base\n",
        "\n",
        "Fazer for 30 vezes"
      ]
    },
    {
      "cell_type": "code",
      "execution_count": null,
      "metadata": {
        "id": "I0Q-DsivLe7s"
      },
      "outputs": [],
      "source": [
        "pca = PCA(n_components=5)\n",
        "pca.fit(x_train)\n",
        "X_train_pca = pca.fit_transform(x_train)\n",
        "X_test_pca = pca.fit_transform(x_test)\n",
        "\n",
        "X_train_pca = pd.DataFrame(X_train_pca)\n",
        "X_test_pca = pd.DataFrame(X_test_pca)"
      ]
    },
    {
      "cell_type": "code",
      "execution_count": null,
      "metadata": {
        "id": "EqiyAN68Hu0Z"
      },
      "outputs": [],
      "source": [
        "\n",
        "  # pipeline = Pipeline([\n",
        "  #     #('outlier_remover', outlier_remover),\n",
        "  #     ('preprocessor', preprocessor_knn),\n",
        "  #     ('knn', KNeighborsClassifier())\n",
        "  # ])\n",
        "\n",
        "  k = 2\n",
        "  weights = 'distance'\n",
        "  metric = 'manhattan'\n",
        "  # pipeline.set_params(knn__n_neighbors=k, knn__weights=weights, knn__metric=metric)\n",
        "  # pipeline.fit(X_train_pca, y_train)\n",
        "  model = KNeighborsClassifier(n_neighbors=k, weights=weights, metric=metric)\n",
        "  model.fit(X_train_pca, y_train)\n",
        "  y_pred = model.predict(X_test_pca)\n",
        "  score = f1_score(y_test, y_pred)\n",
        "\n",
        "  print(score)\n",
        "  print(classification_report(y_test, y_pred))\n"
      ]
    },
    {
      "cell_type": "code",
      "execution_count": null,
      "metadata": {
        "id": "rxkM5423Hupj"
      },
      "outputs": [],
      "source": [
        "score = np.zeros(30)\n",
        "acc = np.zeros(30)\n",
        "rec = np.zeros(30)\n",
        "prec = np.zeros(30)\n",
        "\n",
        "for i in range(30):\n",
        "  np.random.shuffle(df.values)\n",
        "  x_train, x_temp, y_train, y_temp = train_test_split(X, y, test_size=0.2, random_state=10, stratify=y)\n",
        "\n",
        "  pipeline = Pipeline([\n",
        "      #('outlier_remover', outlier_remover),\n",
        "      ('preprocessor', preprocessor_knn),\n",
        "      ('knn', KNeighborsClassifier())\n",
        "  ])\n",
        "\n",
        "  pipeline.set_params(knn__n_neighbors=k, knn__weights=weights, knn__metric=metric)\n",
        "  pipeline.fit(x_train, y_train)\n",
        "  y_pred = pipeline.predict(x_temp)\n",
        "  score[i] = f1_score(y_temp, y_pred)\n",
        "  acc[i] = accuracy_score(y_temp, y_pred)\n",
        "  rec[i] = recall_score(y_temp, y_pred)\n",
        "  prec[i] = precision_score(y_temp, y_pred)\n",
        "\n",
        "print(\"F1_SCORE: \\n\")\n",
        "print(f\" Média -> {score.mean()}\")\n",
        "print(f\" Desvio Padrão -> {score.std()}\")\n",
        "print(\"\\nACCURACY: \\n\")\n",
        "print(f\" Média -> {acc.mean()}\")\n",
        "print(f\" Desvio Padrão -> {acc.std()}\")\n",
        "print(\"\\nRECALL: \\n\")\n",
        "print(f\" Média -> {rec.mean()}\")\n",
        "print(f\" Desvio Padrão -> {rec.std()}\")\n",
        "print(\"\\nPRECISION: \\n\")\n",
        "print(f\" Média -> {prec.mean()}\")\n",
        "print(f\" Desvio Padrão -> {prec.std()}\")\n"
      ]
    },
    {
      "cell_type": "code",
      "execution_count": null,
      "metadata": {
        "id": "HVrCApYuaDA9"
      },
      "outputs": [],
      "source": []
    }
  ],
  "metadata": {
    "colab": {
      "provenance": [],
      "include_colab_link": true
    },
    "kernelspec": {
      "display_name": "Python 3",
      "name": "python3"
    },
    "language_info": {
      "name": "python"
    }
  },
  "nbformat": 4,
  "nbformat_minor": 0
}